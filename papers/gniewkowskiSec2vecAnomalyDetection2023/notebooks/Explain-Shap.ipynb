{
 "cells": [
  {
   "cell_type": "code",
   "execution_count": null,
   "id": "f6443108",
   "metadata": {},
   "outputs": [],
   "source": [
    "cd /home/mateuszg/http2vec"
   ]
  },
  {
   "cell_type": "code",
   "execution_count": null,
   "id": "4595f766",
   "metadata": {},
   "outputs": [],
   "source": [
    "import os\n",
    "os.environ['CUDA_VISIBLE_DEVICES'] = \"0\""
   ]
  },
  {
   "cell_type": "code",
   "execution_count": null,
   "id": "548b5386",
   "metadata": {},
   "outputs": [],
   "source": [
    "lm = \"roberta\"\n",
    "dataset = \"CSIC2010\"\n",
    "clf_name = \"rf\"\n",
    "size = 3072"
   ]
  },
  {
   "cell_type": "code",
   "execution_count": null,
   "id": "6758ba95",
   "metadata": {},
   "outputs": [],
   "source": [
    "import json\n",
    "import pandas as pd\n",
    "from transformers import RobertaTokenizer\n",
    "\n",
    "from http2vec.evaluation import (\n",
    "    get_data,\n",
    "    get_classifier_fn,\n",
    "    get_vectorizer,\n",
    "    get_classifier\n",
    ")"
   ]
  },
  {
   "cell_type": "code",
   "execution_count": null,
   "id": "079c1626",
   "metadata": {},
   "outputs": [],
   "source": [
    "data = get_data(dataset)\n",
    "\n",
    "clf = get_classifier(lm, dataset, size, clf_name)\n",
    "vectorizer = get_vectorizer(lm, dataset, size)\n",
    "clf_fun = get_classifier_fn(\n",
    "    vectorizer,\n",
    "    f\"data/tokenizers/{dataset}\",\n",
    "    clf,\n",
    ")\n",
    "\n",
    "tokenizer = RobertaTokenizer.from_pretrained(\n",
    "    f\"data/tokenizers/{dataset}\"\n",
    ")"
   ]
  },
  {
   "cell_type": "markdown",
   "id": "3f5bc2dd",
   "metadata": {},
   "source": [
    "# Explain single instance"
   ]
  },
  {
   "cell_type": "code",
   "execution_count": null,
   "id": "5368a074",
   "metadata": {},
   "outputs": [],
   "source": [
    "import shap\n",
    "\n",
    "explainer = shap.Explainer(clf_fun, masker=tokenizer, algorithm=\"auto\")\n",
    "shap_values = explainer(data[\"text\"][0:1])\n",
    "# visualize the first prediction's explanation for the POSITIVE output class\n",
    "shap.plots.text(shap_values[0, :, 0])"
   ]
  },
  {
   "cell_type": "markdown",
   "id": "014b3392",
   "metadata": {},
   "source": [
    "# Explain overall results"
   ]
  },
  {
   "cell_type": "code",
   "execution_count": null,
   "id": "2c7d320e",
   "metadata": {},
   "outputs": [],
   "source": [
    "to_explain = pd.read_csv(\"CSIC2010-n-closest.csv\")"
   ]
  },
  {
   "cell_type": "code",
   "execution_count": null,
   "id": "cbb694b2",
   "metadata": {},
   "outputs": [],
   "source": [
    "explainer = shap.Explainer(clf_fun, masker=tokenizer, algorithm=\"auto\")\n",
    "shap_values = explainer(to_explain[\"text\"])\n",
    "shap.plots.text(shap_values[0, :, 0])"
   ]
  },
  {
   "cell_type": "code",
   "execution_count": null,
   "id": "c05a9628",
   "metadata": {},
   "outputs": [],
   "source": [
    "a = shap_values.sum(0)\n",
    "a.values = a.values[:, 0] #/ abs(a.values[:, 0].max())\n",
    "a.values[a.values < 0] = 0 # We dont care for \"normal\" tokens"
   ]
  },
  {
   "cell_type": "code",
   "execution_count": null,
   "id": "0b0992a5",
   "metadata": {},
   "outputs": [],
   "source": [
    "shap.plots.bar(a, max_display=25)"
   ]
  },
  {
   "cell_type": "code",
   "execution_count": null,
   "id": "77c43a83",
   "metadata": {},
   "outputs": [],
   "source": [
    "pd.DataFrame(zip(a.data, a.values)).sort_values(by=1, ascending=False)"
   ]
  },
  {
   "cell_type": "code",
   "execution_count": null,
   "id": "fb6f2cf5",
   "metadata": {},
   "outputs": [],
   "source": [
    "len(shap_values[0, :, 0].data)"
   ]
  }
 ],
 "metadata": {
  "kernelspec": {
   "display_name": "Python 3",
   "language": "python",
   "name": "python3"
  },
  "language_info": {
   "codemirror_mode": {
    "name": "ipython",
    "version": 3
   },
   "file_extension": ".py",
   "mimetype": "text/x-python",
   "name": "python",
   "nbconvert_exporter": "python",
   "pygments_lexer": "ipython3",
   "version": "3.9.12"
  }
 },
 "nbformat": 4,
 "nbformat_minor": 5
}
