{
 "cells": [
  {
   "cell_type": "code",
   "execution_count": 1,
   "id": "0f1bb6d6",
   "metadata": {},
   "outputs": [
    {
     "name": "stdout",
     "output_type": "stream",
     "text": [
      "/home/mateuszg/http2vec\n"
     ]
    }
   ],
   "source": [
    "cd /home/mateuszg/http2vec"
   ]
  },
  {
   "cell_type": "code",
   "execution_count": 2,
   "id": "97f21b3e",
   "metadata": {},
   "outputs": [],
   "source": [
    "import os\n",
    "os.environ['CUDA_VISIBLE_DEVICES'] = \"0\""
   ]
  },
  {
   "cell_type": "code",
   "execution_count": 3,
   "id": "9a0ef9c5",
   "metadata": {},
   "outputs": [],
   "source": [
    "lm = \"bow\"\n",
    "dataset = \"CSIC2010\"\n",
    "clf_name = \"rf\"\n",
    "size = 3072\n",
    "sample_id = \"112\""
   ]
  },
  {
   "cell_type": "code",
   "execution_count": 4,
   "id": "cef8f9b4",
   "metadata": {},
   "outputs": [],
   "source": [
    "import json\n",
    "import pandas as pd\n",
    "from transformers import RobertaTokenizer\n",
    "\n",
    "from http2vec.evaluation import (\n",
    "    get_data,\n",
    "    get_classifier_fn,\n",
    "    get_vectorizer,\n",
    "    get_classifier,\n",
    "    get_vectors\n",
    ")"
   ]
  },
  {
   "cell_type": "code",
   "execution_count": 5,
   "id": "ed54e2bb",
   "metadata": {},
   "outputs": [],
   "source": [
    "data_text = get_data(dataset)\n",
    "data_text.index = data_text[\"id\"].astype(str)\n",
    "\n",
    "clf = get_classifier(lm, dataset, size, clf_name)\n",
    "vectorizer = get_vectorizer(lm, dataset, size)\n",
    "clf_fun = get_classifier_fn(\n",
    "    vectorizer,\n",
    "    f\"data/tokenizers/{dataset}\",\n",
    "    clf,\n",
    ")\n",
    "\n",
    "tokenizer = RobertaTokenizer.from_pretrained(\n",
    "    f\"data/tokenizers/{dataset}\"\n",
    ")"
   ]
  },
  {
   "cell_type": "code",
   "execution_count": 6,
   "id": "385c111e",
   "metadata": {},
   "outputs": [],
   "source": [
    "from sklearn.neighbors import NearestNeighbors\n",
    "\n",
    "\n",
    "def get_closest(vector, context, n_neighbors=200):\n",
    "\n",
    "    neigh = NearestNeighbors()\n",
    "    neigh.fit(context)\n",
    "\n",
    "    closest_n = neigh.kneighbors(\n",
    "        vector.reshape(1, -1),\n",
    "        n_neighbors=n_neighbors,\n",
    "        return_distance=False\n",
    "    ).tolist()\n",
    "    return closest_n[0]"
   ]
  },
  {
   "cell_type": "code",
   "execution_count": 7,
   "id": "afc7751f",
   "metadata": {},
   "outputs": [],
   "source": [
    "data, labels, ids = get_vectors(lm, dataset, size)"
   ]
  },
  {
   "cell_type": "code",
   "execution_count": 8,
   "id": "d917abe1",
   "metadata": {},
   "outputs": [],
   "source": [
    "vector = data[ids == sample_id]"
   ]
  },
  {
   "cell_type": "code",
   "execution_count": 9,
   "id": "08cd20a4",
   "metadata": {},
   "outputs": [],
   "source": [
    "n_closest = get_closest(vector, data)"
   ]
  },
  {
   "cell_type": "code",
   "execution_count": 10,
   "id": "4345567c",
   "metadata": {},
   "outputs": [],
   "source": [
    "n_closest_data = data_text.loc[ids[n_closest]][\"text\"]\n",
    "n_closest_data.to_csv(\"CSIC2010-n-closest.csv\")"
   ]
  },
  {
   "cell_type": "code",
   "execution_count": 11,
   "id": "16ac662f",
   "metadata": {},
   "outputs": [
    {
     "data": {
      "text/plain": [
       "'GET http://localhost:8080/tienda1/publico/entrar.jsp?errorMsg=Credenciales+incorrectas%3C%21--%23exec+cmd%3D%22rm+-rf+%2F%3Bcat+%2Fetc%2Fpasswd%22+--%3E HTTP/1.1\\\\r\\\\n\\nPragma: no-cache\\\\r\\\\n\\nCache-control: no-cache\\\\r\\\\n\\nAccept: text/xml,application/xml,application/xhtml+xml,text/html;q=0.9,text/plain;q=0.8,image/png,*/*;q=0.5\\\\r\\\\n\\nAccept-Encoding: x-gzip, x-deflate, gzip, deflate\\\\r\\\\n\\nAccept-Charset: utf-8, utf-8;q=0.5, *;q=0.5\\\\r\\\\n\\nAccept-Language: en\\\\r\\\\n\\nHost: localhost:8080\\\\r\\\\n\\nConnection: close\\\\r\\\\n\\n\\\\r\\\\n\\n\\\\r\\\\n'"
      ]
     },
     "execution_count": 11,
     "metadata": {},
     "output_type": "execute_result"
    }
   ],
   "source": [
    "n_closest_data[100]"
   ]
  },
  {
   "cell_type": "code",
   "execution_count": 12,
   "id": "5f46dacc",
   "metadata": {},
   "outputs": [
    {
     "data": {
      "text/plain": [
       "['GET http://localhost:8080/tienda1/publico/entrar.jsp?errorMsg=Credenciales+incorrectas%27%3B+DROP+TABLE+usuarios%3B+SELECT+*+FROM+datos+WHERE+nombre+LIKE+%27%25 HTTP/1.1\\\\r\\\\n',\n",
       " 'Pragma: no-cache\\\\r\\\\n',\n",
       " 'Cache-control: no-cache\\\\r\\\\n',\n",
       " 'Accept: text/xml,application/xml,application/xhtml+xml,text/html;q=0.9,text/plain;q=0.8,image/png,*/*;q=0.5\\\\r\\\\n',\n",
       " 'Accept-Encoding: x-gzip, x-deflate, gzip, deflate\\\\r\\\\n',\n",
       " 'Accept-Charset: utf-8, utf-8;q=0.5, *;q=0.5\\\\r\\\\n',\n",
       " 'Accept-Language: en\\\\r\\\\n',\n",
       " 'Host: localhost:8080\\\\r\\\\n',\n",
       " 'Connection: close\\\\r\\\\n',\n",
       " '\\\\r\\\\n',\n",
       " '\\\\r\\\\n']"
      ]
     },
     "execution_count": 12,
     "metadata": {},
     "output_type": "execute_result"
    }
   ],
   "source": [
    "n_closest_data[0].splitlines()"
   ]
  },
  {
   "cell_type": "code",
   "execution_count": 13,
   "id": "61586f1b",
   "metadata": {},
   "outputs": [],
   "source": [
    "tokenizer = RobertaTokenizer.from_pretrained(\n",
    "    f\"data/tokenizers/{dataset}\"\n",
    ")"
   ]
  },
  {
   "cell_type": "code",
   "execution_count": 14,
   "id": "d1356e44",
   "metadata": {},
   "outputs": [
    {
     "name": "stdout",
     "output_type": "stream",
     "text": [
      " GET Ġhttp :// localhost : 8080 / tienda 1 / publico / entrar . jsp ? errorMsg = Credenciales + incorrectas % 27 % 3 B + DROP + TABLE + usuarios % 3 B + SELECT +*+ FROM + datos + WHERE + nombre + LIKE +% 27 % 25 ĠHTTP / 1 . 1 \\ r \\ n </s>\n",
      " Pragma : Ġno - cache \\ r \\ n </s>\n",
      " Cache - control : Ġno - cache \\ r \\ n </s>\n",
      " Accept : Ġtext / xml , application / xml , application / xhtml + xml , text / html ; q = 0 . 9 , text / plain ; q = 0 . 8 , image / png ,*/*; q = 0 . 5 \\ r \\ n </s>\n",
      " Accept - Encoding : Ġx - gzip , Ġx - deflate , Ġgzip , Ġdeflate \\ r \\ n </s>\n",
      " Accept - Charset : Ġutf - 8 , Ġutf - 8 ; q = 0 . 5 , Ġ*; q = 0 . 5 \\ r \\ n </s>\n",
      " Accept - Language : Ġen \\ r \\ n </s>\n",
      " Host : Ġlocalhost : 8080 \\ r \\ n </s>\n",
      " Connection : Ġclose \\ r \\ n </s>\n",
      " \\ r \\ n </s>\n",
      " \\ r \\ n </s>\n"
     ]
    }
   ],
   "source": [
    "for sentence in n_closest_data[0].splitlines():\n",
    "    sentence = tokenizer(\n",
    "        sentence,\n",
    "        return_tensors=\"pt\",\n",
    "        truncation=True,\n",
    "        max_length=512,\n",
    "    )[\"input_ids\"].tolist()[0]\n",
    "    sentence = tokenizer.convert_ids_to_tokens(sentence)\n",
    "    print(\" \".join(sentence).replace(\"<s>\", \"\"))"
   ]
  }
 ],
 "metadata": {
  "kernelspec": {
   "display_name": "Python 3",
   "language": "python",
   "name": "python3"
  },
  "language_info": {
   "codemirror_mode": {
    "name": "ipython",
    "version": 3
   },
   "file_extension": ".py",
   "mimetype": "text/x-python",
   "name": "python",
   "nbconvert_exporter": "python",
   "pygments_lexer": "ipython3",
   "version": "3.9.12"
  }
 },
 "nbformat": 4,
 "nbformat_minor": 5
}
